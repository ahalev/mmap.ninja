{
  "nbformat": 4,
  "nbformat_minor": 0,
  "metadata": {
    "colab": {
      "provenance": []
    },
    "kernelspec": {
      "name": "python3",
      "display_name": "Python 3"
    },
    "language_info": {
      "name": "python"
    }
  },
  "cells": [
    {
      "cell_type": "markdown",
      "source": [
        "# mmap.ninja\n",
        "\n",
        "This if a demo of `mmap_ninja`, which allows you to store your machine learning datasets in memory-mapped format during training.\n",
        "\n",
        "This allows you to significantly speed up the I/O and accelerate the time for iteration over the dataset by up to **10 times**!\n",
        "\n",
        "We'll demonstrate its power by converting an image segmentation dataset into\n",
        "a memory-mapped format."
      ],
      "metadata": {
        "id": "xmDa7Wg0PGzL"
      }
    },
    {
      "cell_type": "code",
      "source": [
        "!pip install mmap_ninja"
      ],
      "metadata": {
        "colab": {
          "base_uri": "https://localhost:8080/"
        },
        "id": "xgjl79xKRIXA",
        "outputId": "0b64e0a9-684f-4f40-a70c-35db99636906"
      },
      "execution_count": null,
      "outputs": [
        {
          "output_type": "stream",
          "name": "stdout",
          "text": [
            "Looking in indexes: https://pypi.org/simple, https://us-python.pkg.dev/colab-wheels/public/simple/\n",
            "Collecting mmap_ninja\n",
            "  Downloading mmap_ninja-0.2.1.tar.gz (8.2 kB)\n",
            "Requirement already satisfied: numpy in /usr/local/lib/python3.7/dist-packages (from mmap_ninja) (1.21.6)\n",
            "Building wheels for collected packages: mmap-ninja\n",
            "  Building wheel for mmap-ninja (setup.py) ... \u001b[?25l\u001b[?25hdone\n",
            "  Created wheel for mmap-ninja: filename=mmap_ninja-0.2.1-py3-none-any.whl size=8095 sha256=7cd66c55b8d9568f6f46aeedbdcfa0425b1d3348febcfffdf4fb5fa18cfb4eeb\n",
            "  Stored in directory: /root/.cache/pip/wheels/2f/da/3f/4794f761c01ddf0e0e8bd9a668ed4f91ca692437d7345a77ca\n",
            "Successfully built mmap-ninja\n",
            "Installing collected packages: mmap-ninja\n",
            "Successfully installed mmap-ninja-0.2.1\n"
          ]
        }
      ]
    },
    {
      "cell_type": "code",
      "execution_count": null,
      "metadata": {
        "colab": {
          "base_uri": "https://localhost:8080/"
        },
        "id": "6C8M0eZtPAFE",
        "outputId": "d3756731-8b02-4299-82ec-6126364356f4"
      },
      "outputs": [
        {
          "output_type": "stream",
          "name": "stdout",
          "text": [
            "  % Total    % Received % Xferd  Average Speed   Time    Time     Time  Current\n",
            "                                 Dload  Upload   Total   Spent    Left  Speed\n",
            "100 80.2M  100 80.2M    0     0  28.8M      0  0:00:02  0:00:02 --:--:-- 28.8M\n"
          ]
        }
      ],
      "source": [
        "# Load the data: IMDB movie review sentiment classification\n",
        "!curl -O https://ai.stanford.edu/~amaas/data/sentiment/aclImdb_v1.tar.gz\n",
        "!tar -xf aclImdb_v1.tar.gz\n"
      ]
    },
    {
      "cell_type": "markdown",
      "source": [
        "The directory has the following structure roughly:\n",
        "\n",
        "```\n",
        ".\n",
        "├── imdbEr.txt\n",
        "├── imdb.vocab\n",
        "├── README\n",
        "├── test\n",
        "│   ├── labeledBow.feat\n",
        "│   ├── neg [12500 entries exceeds filelimit, not opening dir]\n",
        "│   ├── pos [12500 entries exceeds filelimit, not opening dir]\n",
        "│   ├── urls_neg.txt\n",
        "│   └── urls_pos.txt\n",
        "└── train\n",
        "    ├── labeledBow.feat\n",
        "    ├── neg [12500 entries exceeds filelimit, not opening dir]\n",
        "    ├── pos [12500 entries exceeds filelimit, not opening dir]\n",
        "    ├── unsup [50000 entries exceeds filelimit, not opening dir]\n",
        "    ├── unsupBow.feat\n",
        "    ├── urls_neg.txt\n",
        "    ├── urls_pos.txt\n",
        "    └── urls_unsup.txt\n",
        "\n",
        "\n",
        "```"
      ],
      "metadata": {
        "id": "SLwBuVwGP7kv"
      }
    },
    {
      "cell_type": "markdown",
      "source": [
        "Let's print a review:"
      ],
      "metadata": {
        "id": "ArXcI_gVQwuQ"
      }
    },
    {
      "cell_type": "code",
      "source": [
        "!cat aclImdb/train/pos/6248_7.txt\n"
      ],
      "metadata": {
        "colab": {
          "base_uri": "https://localhost:8080/"
        },
        "id": "qWL_rfWXPHXL",
        "outputId": "ba576f70-f52d-4ea3-fa24-f020adedf4db"
      },
      "execution_count": null,
      "outputs": [
        {
          "output_type": "stream",
          "name": "stdout",
          "text": [
            "Being an Austrian myself this has been a straight knock in my face. Fortunately I don't live nowhere near the place where this movie takes place but unfortunately it portrays everything that the rest of Austria hates about Viennese people (or people close to that region). And it is very easy to read that this is exactly the directors intention: to let your head sink into your hands and say \"Oh my god, how can THAT be possible!\". No, not with me, the (in my opinion) totally exaggerated uncensored swinger club scene is not necessary, I watch porn, sure, but in this context I was rather disgusted than put in the right context.<br /><br />This movie tells a story about how misled people who suffer from lack of education or bad company try to survive and live in a world of redundancy and boring horizons. A girl who is treated like a whore by her super-jealous boyfriend (and still keeps coming back), a female teacher who discovers her masochism by putting the life of her super-cruel \"lover\" on the line, an old couple who has an almost mathematical daily cycle (she is the \"official replacement\" of his ex wife), a couple that has just divorced and has the ex husband suffer under the acts of his former wife obviously having a relationship with her masseuse and finally a crazy hitchhiker who asks her drivers the most unusual questions and stretches their nerves by just being super-annoying.<br /><br />After having seen it you feel almost nothing. You're not even shocked, sad, depressed or feel like doing anything... Maybe that's why I gave it 7 points, it made me react in a way I never reacted before. If that's good or bad is up to you!"
          ]
        }
      ]
    },
    {
      "cell_type": "markdown",
      "source": [
        "Now, let's iterate over relevant text files and see how long it takes to iterate over them."
      ],
      "metadata": {
        "id": "RdRjmwKNQ0eV"
      }
    },
    {
      "cell_type": "code",
      "source": [
        "import numpy as np\n",
        "\n",
        "from tqdm import tqdm\n",
        "from pathlib import Path\n",
        "from time import time"
      ],
      "metadata": {
        "id": "nAPLqE3VQvX9"
      },
      "execution_count": null,
      "outputs": []
    },
    {
      "cell_type": "code",
      "source": [
        "base_dir = Path('aclImdb')\n",
        "text_subdirs = [\n",
        "  'train/pos',\n",
        "  'train/neg',\n",
        "  'train/unsup',\n",
        "  'test/pos',\n",
        "  'test/neg'\n",
        "]"
      ],
      "metadata": {
        "id": "egDQ4TfQRMaR"
      },
      "execution_count": null,
      "outputs": []
    },
    {
      "cell_type": "code",
      "source": [
        "def texts_generator():\n",
        "  for sub_dir in text_subdirs:\n",
        "    for text_path in (base_dir / sub_dir).iterdir():\n",
        "      with open(text_path) as in_file:\n",
        "        yield in_file.read()"
      ],
      "metadata": {
        "id": "LW3PYdMMRWXS"
      },
      "execution_count": null,
      "outputs": []
    },
    {
      "cell_type": "code",
      "source": [
        "print(next(texts_generator()))"
      ],
      "metadata": {
        "colab": {
          "base_uri": "https://localhost:8080/"
        },
        "id": "UlYLJIgWTRc2",
        "outputId": "9425a947-50ce-41c8-c5af-81f3e98adb4f"
      },
      "execution_count": null,
      "outputs": [
        {
          "output_type": "stream",
          "name": "stdout",
          "text": [
            "<br /><br />Film dominated by raven-haired Barbara Steele, it was seen when I was seven or eight and created permanent images of pallid vampiric men and women stalking a castle, seeking blood. Steele is an icon of horror films and an otherworldly beauty, and the views of the walking dead pre-date Romero's NIGHT OF THE LIVING DEAD shamblers, unifying them in my mind.<br /><br />I don't see the connection between this film and THE HAUNTING, which is clever but ambiguous about the forces present. LA DANZA MACABRE is a b-movie without pretention, daring you to fall in love with Barbara Steele and suffer the consequences. There's no such draw to HAUNTING's overwrought Claire Bloom. The comparisons to the HAUNTING are superficial.<br /><br />And no, this movie does NOT need to be remade. Not only is it a product of the Sixties, but the large percentage of talentless cretins in Hollywood cannot fathom MACABRE's formula for terror. That formula is based on one overriding factor: GOOD WRITING. Low-grade classics like CASTLE and Corman's Poe films with R. Matheson and Tourneur's OUT OF THE PAST share a commonality of strong writing. It's simple. Get a real writer like Richard Matheson or Steve McQuarrie and let them put a plot into today's cinematic mess. Besides that, let Hollywood attempt some original material for a change, and stop exploiting the obviously superior product of the past.\n"
          ]
        }
      ]
    },
    {
      "cell_type": "code",
      "source": [
        "start_t = time()\n",
        "for text in tqdm(texts_generator()):\n",
        "  pass\n",
        "text_t = time() - start_t\n",
        "print(f'\\nTook: {text_t}')"
      ],
      "metadata": {
        "colab": {
          "base_uri": "https://localhost:8080/"
        },
        "id": "8b9oxrvfRshI",
        "outputId": "1ff6849b-3f4c-4486-a99a-153ad8699da7"
      },
      "execution_count": null,
      "outputs": [
        {
          "output_type": "stream",
          "name": "stderr",
          "text": [
            "100000it [00:03, 25768.09it/s]"
          ]
        },
        {
          "output_type": "stream",
          "name": "stdout",
          "text": [
            "\n",
            "Took: 3.8872451782226562\n"
          ]
        },
        {
          "output_type": "stream",
          "name": "stderr",
          "text": [
            "\n"
          ]
        }
      ]
    },
    {
      "cell_type": "markdown",
      "source": [
        "Now, let's convert the dataset into a `StringsMmap`!\n",
        "\n",
        "The first step is to convert the image files into a `StringsMmap`.\n",
        "\n",
        "This is done only once for the whole project, because it is persisted."
      ],
      "metadata": {
        "id": "2zQ46oVbVSFZ"
      }
    },
    {
      "cell_type": "code",
      "source": [
        "from mmap_ninja.string import StringsMmap\n",
        "\n",
        "StringsMmap.from_generator(\n",
        "    out_dir='aclImdb_mmap',\n",
        "    sample_generator=texts_generator(),\n",
        "    batch_size=1024,\n",
        "    verbose=True\n",
        ")"
      ],
      "metadata": {
        "colab": {
          "base_uri": "https://localhost:8080/"
        },
        "id": "HrrL2ZH7RySo",
        "outputId": "0ad12761-9881-4c2d-874f-6786d7fe8e56"
      },
      "execution_count": null,
      "outputs": [
        {
          "output_type": "stream",
          "name": "stderr",
          "text": [
            "100000it [00:04, 20619.84it/s]\n"
          ]
        },
        {
          "output_type": "execute_result",
          "data": {
            "text/plain": [
              "<mmap_ninja.string.StringsMmap at 0x7ff1a3f05bd0>"
            ]
          },
          "metadata": {},
          "execution_count": 45
        }
      ]
    },
    {
      "cell_type": "code",
      "source": [
        "texts = StringsMmap('aclImdb_mmap')"
      ],
      "metadata": {
        "id": "NWB-b7EBTGzy"
      },
      "execution_count": null,
      "outputs": []
    },
    {
      "cell_type": "code",
      "source": [
        "print(texts[0])"
      ],
      "metadata": {
        "colab": {
          "base_uri": "https://localhost:8080/"
        },
        "id": "q5CgpKSFTPPp",
        "outputId": "ba51d3b9-30f2-461e-c359-3c564fbcb142"
      },
      "execution_count": null,
      "outputs": [
        {
          "output_type": "stream",
          "name": "stdout",
          "text": [
            "<br /><br />Film dominated by raven-haired Barbara Steele, it was seen when I was seven or eight and created permanent images of pallid vampiric men and women stalking a castle, seeking blood. Steele is an icon of horror films and an otherworldly beauty, and the views of the walking dead pre-date Romero's NIGHT OF THE LIVING DEAD shamblers, unifying them in my mind.<br /><br />I don't see the connection between this film and THE HAUNTING, which is clever but ambiguous about the forces present. LA DANZA MACABRE is a b-movie without pretention, daring you to fall in love with Barbara Steele and suffer the consequences. There's no such draw to HAUNTING's overwrought Claire Bloom. The comparisons to the HAUNTING are superficial.<br /><br />And no, this movie does NOT need to be remade. Not only is it a product of the Sixties, but the large percentage of talentless cretins in Hollywood cannot fathom MACABRE's formula for terror. That formula is based on one overriding factor: GOOD WRITING. Low-grade classics like CASTLE and Corman's Poe films with R. Matheson and Tourneur's OUT OF THE PAST share a commonality of strong writing. It's simple. Get a real writer like Richard Matheson or Steve McQuarrie and let them put a plot into today's cinematic mess. Besides that, let Hollywood attempt some original material for a change, and stop exploiting the obviously superior product of the past.\n"
          ]
        }
      ]
    },
    {
      "cell_type": "code",
      "source": [
        "start_t = time()\n",
        "for text in tqdm(texts):\n",
        "  pass\n",
        "mmap_t = time() - start_t\n",
        "print(f'\\nTook: {mmap_t}')"
      ],
      "metadata": {
        "colab": {
          "base_uri": "https://localhost:8080/"
        },
        "id": "XS9w0QsWTP35",
        "outputId": "1759e747-eff3-4da0-b265-78508527562e"
      },
      "execution_count": null,
      "outputs": [
        {
          "output_type": "stream",
          "name": "stderr",
          "text": [
            "100%|██████████| 100000/100000 [00:00<00:00, 269892.44it/s]"
          ]
        },
        {
          "output_type": "stream",
          "name": "stdout",
          "text": [
            "\n",
            "Took: 0.3762497901916504\n"
          ]
        },
        {
          "output_type": "stream",
          "name": "stderr",
          "text": [
            "\n"
          ]
        }
      ]
    },
    {
      "cell_type": "code",
      "source": [
        "ratio = text_t / mmap_t\n",
        "print(f'We can see that the mmap_ninja is {ratio:.2f} times faster than storing as text files!')"
      ],
      "metadata": {
        "colab": {
          "base_uri": "https://localhost:8080/"
        },
        "id": "ykqonamlTcJJ",
        "outputId": "fa48014a-935d-4b68-a1db-794bdc01d761"
      },
      "execution_count": null,
      "outputs": [
        {
          "output_type": "stream",
          "name": "stdout",
          "text": [
            "We can see that the mmap_ninja is 10.33 times faster than storing as text files!\n"
          ]
        }
      ]
    },
    {
      "cell_type": "markdown",
      "source": [
        "We've seen a dramatic improvement in the time for one iteration over the dataset.\n",
        "\n",
        "It makes a big difference whether you are going to wait for one minute or one\n",
        "second!\n",
        "\n",
        "Especially since this has to be done for every epoch, and every model you want\n",
        "to experiment with, this quickly adds up!"
      ],
      "metadata": {
        "id": "6I2sOxbUelOn"
      }
    },
    {
      "cell_type": "markdown",
      "source": [
        "**Another tip**: You can `append` or `extend` to the `StringsMmap`, in the same way you could with regular Python `list`s!"
      ],
      "metadata": {
        "id": "M8D_3JZNgdb7"
      }
    },
    {
      "cell_type": "code",
      "source": [
        "print(len(texts))"
      ],
      "metadata": {
        "colab": {
          "base_uri": "https://localhost:8080/"
        },
        "id": "LOfZqLIITe6Y",
        "outputId": "0a1ec58f-1535-4e3d-ab0c-e85c6e082793"
      },
      "execution_count": null,
      "outputs": [
        {
          "output_type": "stream",
          "name": "stdout",
          "text": [
            "100000\n"
          ]
        }
      ]
    },
    {
      "cell_type": "code",
      "source": [
        "texts.append('This is a new document')"
      ],
      "metadata": {
        "id": "nU4AX3QBgsR0"
      },
      "execution_count": null,
      "outputs": []
    },
    {
      "cell_type": "code",
      "source": [
        "print(len(texts))"
      ],
      "metadata": {
        "colab": {
          "base_uri": "https://localhost:8080/"
        },
        "id": "ece8IBDwguTc",
        "outputId": "8cb431e2-daba-45d8-8c9b-fae043ebceb0"
      },
      "execution_count": null,
      "outputs": [
        {
          "output_type": "stream",
          "name": "stdout",
          "text": [
            "100001\n"
          ]
        }
      ]
    },
    {
      "cell_type": "code",
      "source": [
        "texts[-1]"
      ],
      "metadata": {
        "colab": {
          "base_uri": "https://localhost:8080/",
          "height": 35
        },
        "id": "LbXOaZfwgvTE",
        "outputId": "802b39d3-fdf5-4ee1-92b0-bb1556a3e14e"
      },
      "execution_count": null,
      "outputs": [
        {
          "output_type": "execute_result",
          "data": {
            "text/plain": [
              "'This is a new document'"
            ],
            "application/vnd.google.colaboratory.intrinsic+json": {
              "type": "string"
            }
          },
          "metadata": {},
          "execution_count": 55
        }
      ]
    },
    {
      "cell_type": "code",
      "source": [
        "texts.extend(['New doc0', 'New doc1'])"
      ],
      "metadata": {
        "id": "kLRqYIDwgv1b"
      },
      "execution_count": null,
      "outputs": []
    },
    {
      "cell_type": "code",
      "source": [
        "print(len(texts))"
      ],
      "metadata": {
        "id": "tUyQqeM1g1_T",
        "outputId": "3fbc6c21-4b0c-48b6-9124-e80cc54bf1d6",
        "colab": {
          "base_uri": "https://localhost:8080/"
        }
      },
      "execution_count": null,
      "outputs": [
        {
          "output_type": "stream",
          "name": "stdout",
          "text": [
            "100003\n"
          ]
        }
      ]
    },
    {
      "cell_type": "code",
      "source": [
        "texts[-3:]"
      ],
      "metadata": {
        "id": "yVtBfs3kg3EM",
        "outputId": "893e5594-9703-4db3-eb25-d7906c932c1c",
        "colab": {
          "base_uri": "https://localhost:8080/"
        }
      },
      "execution_count": null,
      "outputs": [
        {
          "output_type": "execute_result",
          "data": {
            "text/plain": [
              "['This is a new document', 'New doc0', 'New doc1']"
            ]
          },
          "metadata": {},
          "execution_count": 58
        }
      ]
    },
    {
      "cell_type": "code",
      "source": [],
      "metadata": {
        "id": "dSmvrzf0g4i7"
      },
      "execution_count": null,
      "outputs": []
    }
  ]
}